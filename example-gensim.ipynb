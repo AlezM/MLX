{
 "cells": [
  {
   "cell_type": "markdown",
   "metadata": {},
   "source": [
    "# Пример использования библиотеки gensim для тематического моделирования"
   ]
  },
  {
   "cell_type": "code",
   "execution_count": 1,
   "metadata": {
    "collapsed": false
   },
   "outputs": [
    {
     "name": "stderr",
     "output_type": "stream",
     "text": [
      "C:\\Users\\pokus\\Anaconda3\\lib\\site-packages\\gensim\\utils.py:1197: UserWarning: detected Windows; aliasing chunkize to chunkize_serial\n",
      "  warnings.warn(\"detected Windows; aliasing chunkize to chunkize_serial\")\n"
     ]
    }
   ],
   "source": [
    "from gensim import corpora, models"
   ]
  },
  {
   "cell_type": "code",
   "execution_count": 274,
   "metadata": {
    "collapsed": false
   },
   "outputs": [],
   "source": [
    "#from kullback_leibler import Corpus"
   ]
  },
  {
   "cell_type": "code",
   "execution_count": 241,
   "metadata": {
    "collapsed": false
   },
   "outputs": [],
   "source": [
    "#import io \n",
    "#f = io.open(\"vocab.bow.txt\", mode=\"r\", encoding=\"utf8\") \n",
    "#f.read() "
   ]
  },
  {
   "cell_type": "code",
   "execution_count": 99,
   "metadata": {
    "collapsed": false
   },
   "outputs": [],
   "source": [
    "# Импортируем данные в формте UCI Bag of Words\n",
    "data = corpora.UciCorpus(\"docword.bow.txt\", \"vocab.bow.txt\")\n",
    "dictionary = data.create_dictionary()"
   ]
  },
  {
   "cell_type": "code",
   "execution_count": 242,
   "metadata": {
    "collapsed": false
   },
   "outputs": [],
   "source": [
    "#for k in dictionary.keys():\n",
    "    #v = v.decode('utf8')\n",
    "#    dictionary[k] = dictionary[k].decode('utf8')\n",
    "#     print(dictionary.k, k)\n",
    "\n",
    "# new1 = {(k, v.decode('utf8')) for k, v in dictionary.items()}\n",
    "#print(dictionary)"
   ]
  },
  {
   "cell_type": "code",
   "execution_count": 116,
   "metadata": {
    "collapsed": false
   },
   "outputs": [
    {
     "name": "stdout",
     "output_type": "stream",
     "text": [
      "Wall time: 15.4 s\n"
     ]
    }
   ],
   "source": [
    "# обучение модель\n",
    "%time ldamodel = models.ldamodel.LdaModel(data, id2word=dictionary, num_topics=5, passes=20, alpha=1.25, eta=1.25)"
   ]
  },
  {
   "cell_type": "code",
   "execution_count": 117,
   "metadata": {
    "collapsed": true
   },
   "outputs": [],
   "source": [
    "# Сохранение модели\n",
    "ldamodel.save(\"ldamodel_xkcd\")"
   ]
  },
  {
   "cell_type": "code",
   "execution_count": null,
   "metadata": {
    "collapsed": false
   },
   "outputs": [],
   "source": [
    "# Загрузка модели\n",
    "ldamodel = models.ldamodel.LdaModel.load(\"ldamodel_xkcd\")"
   ]
  },
  {
   "cell_type": "code",
   "execution_count": 193,
   "metadata": {
    "collapsed": false,
    "scrolled": true
   },
   "outputs": [
    {
     "name": "stdout",
     "output_type": "stream",
     "text": [
      "Topic 0 : 0.008*\"b'\\xd1\\x81\\xd0\\xb5\\xd1\\x82\\xd1\\x8c'\" + 0.005*\"b'\\xd0\\xbd\\xd0\\xb5\\xd0\\xb9\\xd1\\x80\\xd0\\xbe\\xd0\\xbd\\xd0\\xbd\\xd1\\x8b\\xd0\\xb9'\" + 0.005*\"b'\\xd0\\xba\\xd0\\xbe\\xd1\\x82\\xd0\\xbe\\xd1\\x80\\xd1\\x8b\\xd0\\xb9'\" + 0.004*\"b'\\xd1\\x81\\xd0\\xbf\\xd1\\x83\\xd1\\x82\\xd0\\xbd\\xd0\\xb8\\xd0\\xba'\" + 0.003*\"b'\\xd1\\x8d\\xd1\\x82\\xd0\\xbe'\" + 0.003*\"b'\\xd1\\x87\\xd0\\xb5\\xd0\\xbb\\xd0\\xbe\\xd0\\xb2\\xd0\\xb5\\xd0\\xba'\" + 0.002*\"b'\\xd0\\xbd\\xd0\\xb5\\xd0\\xb9\\xd1\\x80\\xd0\\xbe\\xd0\\xbd'\" + 0.002*\"b'\\xd0\\xb4\\xd0\\xb0\\xd1\\x82\\xd1\\x8c'\" + 0.002*\"b'\\xd1\\x81\\xd0\\xb8\\xd0\\xb3\\xd0\\xbd\\xd0\\xb0\\xd0\\xbb'\" + 0.002*\"b'\\xd0\\xbc\\xd0\\xbe\\xd0\\xbb\\xd0\\xbe\\xd1\\x82\\xd0\\xbe\\xd0\\xba'\" \n",
      "\n",
      "Topic 1 : 0.004*\"b'\\xd1\\x8d\\xd1\\x82\\xd0\\xbe'\" + 0.003*\"b'\\xd0\\xbf\\xd1\\x80\\xd0\\xb0\\xd0\\xba\\xd1\\x82\\xd0\\xb8\\xd0\\xba\\xd0\\xb0'\" + 0.003*\"b'\\xd1\\x84\\xd1\\x83\\xd0\\xbd\\xd0\\xba\\xd1\\x86\\xd0\\xb8\\xd1\\x8f'\" + 0.003*\"b'\\xd0\\xb8\\xd1\\x81\\xd0\\xbf\\xd0\\xbe\\xd0\\xbb\\xd1\\x8c\\xd0\\xb7\\xd0\\xbe\\xd0\\xb2\\xd0\\xb0\\xd1\\x82\\xd1\\x8c'\" + 0.002*\"b'\\xd1\\x85\\xd0\\xbe\\xd1\\x80\\xd0\\xbe\\xd1\\x88\\xd0\\xb8\\xd0\\xb9'\" + 0.002*\"b'\\xd1\\x82\\xd0\\xbe\\xd0\\xba\\xd0\\xb5\\xd0\\xbd'\" + 0.002*\"b'\\xd0\\xb4\\xd0\\xbe\\xd0\\xbc'\" + 0.002*\"b'\\xd0\\xba\\xd0\\xbe\\xd0\\xbd\\xd1\\x82\\xd1\\x80\\xd0\\xb0\\xd0\\xba\\xd1\\x82'\" + 0.002*\"b'\\xd0\\xba\\xd0\\xbe\\xd0\\xb4'\" + 0.002*\"b'\\xd0\\xba\\xd0\\xbe\\xd1\\x82\\xd0\\xbe\\xd1\\x80\\xd1\\x8b\\xd0\\xb9'\" \n",
      "\n",
      "Topic 2 : 0.011*\"b'\\xd1\\x8d\\xd1\\x82\\xd0\\xbe'\" + 0.008*\"b'\\xd1\\x80\\xd0\\xb0\\xd0\\xbc\\xd0\\xb1\\xd0\\xbb\\xd0\\xb5\\xd1\\x80'\" + 0.007*\"b'\\xd0\\xb8\\xd0\\xbd\\xd1\\x82\\xd0\\xb5\\xd1\\x80\\xd0\\xbd\\xd0\\xb5\\xd1\\x82'\" + 0.007*\"b'\\xd0\\xba\\xd0\\xbe\\xd0\\xbc\\xd0\\xbf\\xd0\\xb0\\xd0\\xbd\\xd0\\xb8\\xd1\\x8f'\" + 0.006*\"b'\\xd0\\xb3\\xd0\\xbe\\xd0\\xb4'\" + 0.004*\"b'\\xd0\\xb4\\xd0\\xb5\\xd0\\xbd\\xd1\\x8c\\xd0\\xb3\\xd0\\xb0'\" + 0.004*\"b'\\xd0\\xbe\\xd0\\xb4\\xd0\\xb8\\xd0\\xbd'\" + 0.004*\"b'\\xd0\\xbd\\xd1\\x83\\xd0\\xb6\\xd0\\xbd\\xd0\\xbe'\" + 0.004*\"b'\\xd0\\xbd\\xd0\\xb0\\xd1\\x88'\" + 0.003*\"b'\\xd0\\xb5\\xd1\\x89'\" \n",
      "\n",
      "Topic 3 : 0.008*\"b'\\xd0\\xbe\\xd0\\xb1\\xd1\\x83\\xd1\\x87\\xd0\\xb5\\xd0\\xbd\\xd0\\xb8\\xd0\\xb5'\" + 0.004*\"b'\\xd0\\xba\\xd0\\xbe\\xd1\\x82\\xd0\\xbe\\xd1\\x80\\xd1\\x8b\\xd0\\xb9'\" + 0.004*\"b'\\xd0\\xb3\\xd0\\xbb\\xd1\\x83\\xd0\\xb1\\xd0\\xb8\\xd0\\xbd\\xd0\\xbd\\xd1\\x8b\\xd0\\xb9'\" + 0.004*\"b'\\xd1\\x8d\\xd1\\x82\\xd0\\xbe'\" + 0.004*\"b'\\xd0\\xb7\\xd0\\xb0\\xd0\\xb4\\xd0\\xb0\\xd1\\x87\\xd0\\xb0'\" + 0.004*\"b'\\xd0\\xb4\\xd0\\xb0\\xd1\\x82\\xd1\\x8c'\" + 0.003*\"b'\\xd0\\xb8\\xd1\\x81\\xd0\\xbf\\xd0\\xbe\\xd0\\xbb\\xd1\\x8c\\xd0\\xb7\\xd0\\xbe\\xd0\\xb2\\xd0\\xb0\\xd1\\x82\\xd1\\x8c'\" + 0.003*\"b'\\xd0\\xbc\\xd0\\xb0\\xd1\\x88\\xd0\\xb8\\xd0\\xbd\\xd0\\xbd\\xd1\\x8b\\xd0\\xb9'\" + 0.003*\"b'\\xd0\\xb2\\xd1\\x8b\\xd0\\xb1\\xd1\\x80\\xd0\\xbe\\xd1\\x81'\" + 0.003*\"b'\\xd0\\xbc\\xd0\\xb5\\xd1\\x82\\xd0\\xbe\\xd0\\xb4'\" \n",
      "\n",
      "Topic 4 : 0.004*\"b'\\xd0\\xba\\xd0\\xbd\\xd0\\xb8\\xd0\\xb3\\xd0\\xb0'\" + 0.003*\"b'\\xd0\\xba\\xd0\\xbe\\xd1\\x82\\xd0\\xbe\\xd1\\x80\\xd1\\x8b\\xd0\\xb9'\" + 0.002*\"b'\\xd0\\xbf\\xd1\\x80\\xd0\\xbe\\xd0\\xb5\\xd0\\xba\\xd1\\x82'\" + 0.002*\"b'\\xd1\\x80\\xd0\\xb0\\xd0\\xb1\\xd0\\xbe\\xd1\\x82\\xd0\\xb0'\" + 0.002*\"b'\\xd1\\x87\\xd0\\xb5\\xd0\\xbb\\xd0\\xbe\\xd0\\xb2\\xd0\\xb5\\xd0\\xba'\" + 0.002*\"b'\\xd0\\xb0\\xd0\\xb2\\xd1\\x82\\xd0\\xbe\\xd1\\x80'\" + 0.002*\"b'\\xd0\\xb1\\xd0\\xb8\\xd0\\xb7\\xd0\\xbd\\xd0\\xb5\\xd1\\x81'\" + 0.002*\"b'\\xd1\\x81\\xd0\\xb0\\xd0\\xbc\\xd1\\x8b\\xd0\\xb9'\" + 0.002*\"b'\\xd0\\xba\\xd0\\xbe\\xd0\\xbc\\xd0\\xbf\\xd0\\xb0\\xd0\\xbd\\xd0\\xb8\\xd1\\x8f'\" + 0.002*\"b'\\xd1\\x80\\xd0\\xb5\\xd1\\x88\\xd0\\xb5\\xd0\\xbd\\xd0\\xb8\\xd0\\xb5'\" \n",
      "\n"
     ]
    }
   ],
   "source": [
    "import re\n",
    "# выводим топы слов\n",
    "for t, top_words in ldamodel.print_topics(num_topics=10, num_words=10):\n",
    "    print (\"Topic\", t, \":\", top_words, \"\\n\")#bytes(top_words, 'cp1251').decode('cp1251'))#top_words, \"\\n\")"
   ]
  },
  {
   "cell_type": "code",
   "execution_count": 237,
   "metadata": {
    "collapsed": false
   },
   "outputs": [],
   "source": [
    "import numpy as np\n",
    "all_words = [] #все слова из тем \n",
    "for i in range(5):\n",
    "    rus_words = [] #для сохранения русского варианта\n",
    "    words = ldamodel.show_topic(i, 10)\n",
    "    words = np.take(words, [0], axis =1)\n",
    "    for w in words:\n",
    "        rus_words.append(w[0].decode('utf8'))\n",
    "    all_words.append(rus_words)"
   ]
  },
  {
   "cell_type": "code",
   "execution_count": 240,
   "metadata": {
    "collapsed": false
   },
   "outputs": [
    {
     "name": "stdout",
     "output_type": "stream",
     "text": [
      "тема 0 : ['сеть', 'нейронный', 'который', 'спутник', 'это', 'человек', 'нейрон', 'дать', 'сигнал', 'молоток']\n",
      "тема 1 : ['это', 'практика', 'функция', 'использовать', 'хороший', 'токен', 'дом', 'контракт', 'код', 'который']\n",
      "тема 2 : ['это', 'рамблер', 'интернет', 'компания', 'год', 'деньга', 'один', 'нужно', 'наш', 'ещ']\n",
      "тема 3 : ['обучение', 'который', 'глубинный', 'это', 'задача', 'дать', 'использовать', 'машинный', 'выброс', 'метод']\n",
      "тема 4 : ['книга', 'который', 'проект', 'работа', 'человек', 'автор', 'бизнес', 'самый', 'компания', 'решение']\n"
     ]
    }
   ],
   "source": [
    "for i, w in enumerate(all_words):\n",
    "    print(\"тема\", i, \":\", w)"
   ]
  },
  {
   "cell_type": "code",
   "execution_count": 244,
   "metadata": {
    "collapsed": false
   },
   "outputs": [
    {
     "name": "stdout",
     "output_type": "stream",
     "text": [
      "244.811492607\n"
     ]
    }
   ],
   "source": [
    "# Вычисляем логарифм перплексии и немного преобразуем, чтобы привести к общепринятому виду\n",
    "perplexity = ldamodel.log_perplexity(list(data))\n",
    "print (2**(-perplexity))"
   ]
  },
  {
   "cell_type": "code",
   "execution_count": 245,
   "metadata": {
    "collapsed": false
   },
   "outputs": [
    {
     "data": {
      "text/plain": [
       "3.405957612395484"
      ]
     },
     "execution_count": 245,
     "metadata": {},
     "output_type": "execute_result"
    }
   ],
   "source": [
    "perp = ldamodel.bound(data)\n",
    "2**(-perp/float(87409))"
   ]
  },
  {
   "cell_type": "code",
   "execution_count": 248,
   "metadata": {
    "collapsed": true
   },
   "outputs": [],
   "source": [
    "from gensim.test.utils import common_corpus, common_dictionary\n",
    "from gensim.similarities import MatrixSimilarity"
   ]
  },
  {
   "cell_type": "code",
   "execution_count": 246,
   "metadata": {
    "collapsed": true
   },
   "outputs": [],
   "source": [
    "data2 = corpora.UciCorpus(\"docword.kek_test.txt\", \"vocab.kek_test.txt\")"
   ]
  },
  {
   "cell_type": "code",
   "execution_count": 249,
   "metadata": {
    "collapsed": true
   },
   "outputs": [],
   "source": [
    "# Добавление в модель новых документов, содержащихся в новом корупсе data2\n",
    "ldamodel.update(data2, passes=10)"
   ]
  },
  {
   "cell_type": "code",
   "execution_count": 272,
   "metadata": {
    "collapsed": false
   },
   "outputs": [],
   "source": [
    "query = [(1, 5555)]\n",
    "index = MatrixSimilarity(data, num_features=len(dictionary))\n",
    "sims = index[query]"
   ]
  },
  {
   "cell_type": "code",
   "execution_count": 273,
   "metadata": {
    "collapsed": false
   },
   "outputs": [
    {
     "name": "stdout",
     "output_type": "stream",
     "text": [
      "[ 0.          0.          0.          0.          0.          0.\n",
      "  0.01229519  0.01107698  0.          0.          0.          0.          0.\n",
      "  0.00868271  0.0246782   0.          0.          0.01163184  0.01477797\n",
      "  0.        ]\n"
     ]
    }
   ],
   "source": [
    "print(sims)"
   ]
  },
  {
   "cell_type": "code",
   "execution_count": 275,
   "metadata": {
    "collapsed": false
   },
   "outputs": [
    {
     "data": {
      "text/plain": [
       "[(2, 0.017702214), (3, 0.97220784)]"
      ]
     },
     "execution_count": 275,
     "metadata": {},
     "output_type": "execute_result"
    }
   ],
   "source": [
    "# Получение распределения тем для конкретного документа\n",
    "doc = list(data)[0]\n",
    "ldamodel.get_document_topics(doc)"
   ]
  },
  {
   "cell_type": "code",
   "execution_count": null,
   "metadata": {
    "collapsed": true
   },
   "outputs": [],
   "source": []
  }
 ],
 "metadata": {
  "kernelspec": {
   "display_name": "Python [Anaconda3]",
   "language": "python",
   "name": "Python [Anaconda3]"
  },
  "language_info": {
   "codemirror_mode": {
    "name": "ipython",
    "version": 3
   },
   "file_extension": ".py",
   "mimetype": "text/x-python",
   "name": "python",
   "nbconvert_exporter": "python",
   "pygments_lexer": "ipython3",
   "version": "3.5.2"
  }
 },
 "nbformat": 4,
 "nbformat_minor": 0
}
