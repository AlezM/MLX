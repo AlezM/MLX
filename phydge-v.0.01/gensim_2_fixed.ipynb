{
 "cells": [
  {
   "cell_type": "markdown",
   "metadata": {},
   "source": [
    "# Пример использования библиотеки gensim для тематического моделирования"
   ]
  },
  {
   "cell_type": "code",
   "execution_count": 67,
   "metadata": {},
   "outputs": [
    {
     "name": "stderr",
     "output_type": "stream",
     "text": [
      "c:\\users\\evgen\\appdata\\local\\conda\\conda\\envs\\tensorflow\\lib\\site-packages\\gensim\\utils.py:1197: UserWarning: detected Windows; aliasing chunkize to chunkize_serial\n",
      "  warnings.warn(\"detected Windows; aliasing chunkize to chunkize_serial\")\n"
     ]
    }
   ],
   "source": [
    "from gensim import corpora, models\n",
    "import numpy as np"
   ]
  },
  {
   "cell_type": "code",
   "execution_count": null,
   "metadata": {},
   "outputs": [],
   "source": [
    "# Косинусное расстояние - чем больше, тем лучше\n",
    "def cos(x,y):\n",
    "    return x.dot(y)/(np.sqrt(x.dot(x))*np.sqrt(y.dot(y)))"
   ]
  },
  {
   "cell_type": "code",
   "execution_count": null,
   "metadata": {},
   "outputs": [],
   "source": [
    "def argmax(x):\n",
    "    m = max(x)\n",
    "    for i in range(len(x)):\n",
    "        if(x[i] == m):\n",
    "            return i"
   ]
  },
  {
   "cell_type": "code",
   "execution_count": null,
   "metadata": {},
   "outputs": [],
   "source": [
    "def to_vec(x):\n",
    "    kl = np.zeros(5)\n",
    "    #kl = [.0,.0,.0,.0,.0,.0,.0,.0,.0,.0]\n",
    "    for i in range(len(x)):\n",
    "        j = x[i][0]\n",
    "        kl[j] = x[i][1]\n",
    "    return np.array(kl)"
   ]
  },
  {
   "cell_type": "code",
   "execution_count": 201,
   "metadata": {},
   "outputs": [],
   "source": [
    "# Импортируем данные в формте UCI Bag of Words\n",
    "#data = corpora.UciCorpus(\"docword.xkcd.txt\", \"vocab.xkcd.txt\")\n",
    "data = corpora.UciCorpus(\"docword.bow.txt\",\"vocab.bow.txt\")\n",
    "dictionary = data.create_dictionary()"
   ]
  },
  {
   "cell_type": "code",
   "execution_count": null,
   "metadata": {},
   "outputs": [],
   "source": [
    "Number_of_topics = 10"
   ]
  },
  {
   "cell_type": "code",
   "execution_count": 373,
   "metadata": {},
   "outputs": [
    {
     "name": "stdout",
     "output_type": "stream",
     "text": [
      "Wall time: 2.21 s\n"
     ]
    }
   ],
   "source": [
    "# обучение модель\n",
    "%time ldamodel = models.ldamodel.LdaModel(\n",
    "    data, id2word=dictionary, num_topics=Number_of_topics, passes=20, alpha=1.25, eta=1.25)"
   ]
  },
  {
   "cell_type": "code",
   "execution_count": 70,
   "metadata": {},
   "outputs": [],
   "source": [
    "# Сохранение модели\n",
    "ldamodel.save(\"ldamodel_xkcd\")"
   ]
  },
  {
   "cell_type": "code",
   "execution_count": 71,
   "metadata": {},
   "outputs": [],
   "source": [
    "# Загрузка модели\n",
    "ldamodel = models.ldamodel.LdaModel.load(\"ldamodel_xkcd\")"
   ]
  },
  {
   "cell_type": "code",
   "execution_count": 72,
   "metadata": {},
   "outputs": [],
   "source": [
    "#ldamodel.print_topics(num_topics=10, num_words=10)"
   ]
  },
  {
   "cell_type": "code",
   "execution_count": 374,
   "metadata": {
    "scrolled": false
   },
   "outputs": [
    {
     "name": "stdout",
     "output_type": "stream",
     "text": [
      "Topic 0 : 0.011*\"b'eto'\" + 0.007*\"b'rambler'\" + 0.006*\"b'kompaniya'\" + 0.006*\"b'internet'\" + 0.006*\"b'god'\" + 0.005*\"b'obuchenie'\" + 0.004*\"b'kotoryj'\" + 0.004*\"b'odin'\" + 0.003*\"b'nash'\" + 0.003*\"b'nuzhno'\" + 0.003*\"b'chelovek'\" + 0.003*\"b'denga'\" + 0.003*\"b'svoj'\" + 0.003*\"b'zadacha'\" + 0.003*\"b'eshh'\" + 0.003*\"b'samyj'\" + 0.003*\"b'million'\" + 0.003*\"b'vs'\" + 0.003*\"b'viktor'\" + 0.003*\"b'dollar'\" \n",
      "\n",
      "Topic 1 : 0.004*\"b'kotoryj'\" + 0.003*\"b'dat'\" + 0.003*\"b'eto'\" + 0.003*\"b'process'\" + 0.002*\"b'fajlovyj'\" + 0.002*\"b'bufer'\" + 0.002*\"b'rabotat'\" + 0.002*\"b'fajl'\" + 0.002*\"b'sistema'\" + 0.002*\"b'funkciya'\" + 0.002*\"b'pamyat'\" + 0.002*\"b'problema'\" + 0.001*\"b'operaciya'\" + 0.001*\"b'vremya'\" + 0.001*\"b'ispolzovat'\" + 0.001*\"b'vs'\" + 0.001*\"b'kakoj'\" + 0.001*\"b'proekt'\" + 0.001*\"b'odin'\" + 0.001*\"b'izmenenie'\" \n",
      "\n",
      "Topic 2 : 0.007*\"b'set'\" + 0.005*\"b'eto'\" + 0.004*\"b'kotoryj'\" + 0.004*\"b'nejronnyj'\" + 0.003*\"b'odin'\" + 0.003*\"b'sputnik'\" + 0.002*\"b'takoj'\" + 0.002*\"b'nash'\" + 0.002*\"b'zadacha'\" + 0.002*\"b'moch'\" + 0.002*\"b'god'\" + 0.002*\"b'nejron'\" + 0.002*\"b'dat'\" + 0.002*\"b'token'\" + 0.002*\"b'chelovek'\" + 0.002*\"b'vremya'\" + 0.002*\"b'naprimer'\" + 0.002*\"b'signal'\" + 0.002*\"b'dom'\" + 0.002*\"b'byt'\" \n",
      "\n",
      "Topic 3 : 0.000*\"b'poza'\" + 0.000*\"b'nejronki'\" + 0.000*\"b'pererisovyvat'\" + 0.000*\"b'fon'\" + 0.000*\"b'eto'\" + 0.000*\"b'video'\" + 0.000*\"b'polozhenie'\" + 0.000*\"b'rota'\" + 0.000*\"b'razlichnyj'\" + 0.000*\"b'telo'\" + 0.000*\"b'skarmlivat'\" + 0.000*\"b'vidnyj'\" + 0.000*\"b'lerninga'\" + 0.000*\"b'fejkov'\" + 0.000*\"b'mashinnoeobuchenie'\" + 0.000*\"b'nejronku'\" + 0.000*\"b'otmazyvatsya'\" + 0.000*\"b'fejk'\" + 0.000*\"b'trenirovka'\" + 0.000*\"b'ubezhdatsya'\" \n",
      "\n",
      "Topic 4 : 0.004*\"b'kniga'\" + 0.004*\"b'praktika'\" + 0.003*\"b'kotoryj'\" + 0.003*\"b'funkciya'\" + 0.003*\"b'ispolzovat'\" + 0.003*\"b'xoroshij'\" + 0.002*\"b'rabota'\" + 0.002*\"b'eto'\" + 0.002*\"b'avtor'\" + 0.002*\"b'chelovek'\" + 0.002*\"b'upravlenie'\" + 0.002*\"b'ploxoj'\" + 0.002*\"b'kompaniya'\" + 0.002*\"b'peremennyj'\" + 0.002*\"b'vash'\" + 0.002*\"b'znachenie'\" + 0.002*\"b'odin'\" + 0.002*\"b'kod'\" + 0.002*\"b'proekt'\" + 0.002*\"b'samyj'\" \n",
      "\n"
     ]
    }
   ],
   "source": [
    "# выводим топы слов\n",
    "for t, top_words in ldamodel.print_topics(num_topics=5, num_words=20):\n",
    "    print(\"Topic\", t, \":\", top_words,'\\n')"
   ]
  },
  {
   "cell_type": "code",
   "execution_count": 74,
   "metadata": {},
   "outputs": [
    {
     "name": "stdout",
     "output_type": "stream",
     "text": [
      "366.6874481344705\n"
     ]
    }
   ],
   "source": [
    "# Вычисляем логарифм перплексии и немного преобразуем, чтобы привести к общепринятому виду\n",
    "perplexity = ldamodel.log_perplexity(list(data))\n",
    "print(2**(-perplexity))"
   ]
  },
  {
   "cell_type": "code",
   "execution_count": 75,
   "metadata": {},
   "outputs": [
    {
     "data": {
      "text/plain": [
       "366.6874412065536"
      ]
     },
     "execution_count": 75,
     "metadata": {},
     "output_type": "execute_result"
    }
   ],
   "source": [
    "perp = ldamodel.bound(data)\n",
    "2**(-perp/float(87409))"
   ]
  },
  {
   "cell_type": "code",
   "execution_count": 76,
   "metadata": {},
   "outputs": [],
   "source": [
    "# Добавление в модель новых документов, содержащихся в новом корупсе data2\n",
    "#ldamodel.update(data2, passes=10)"
   ]
  },
  {
   "cell_type": "code",
   "execution_count": 383,
   "metadata": {},
   "outputs": [],
   "source": [
    "data2 = corpora.UciCorpus(\"docword.kek_rambler.txt\",\"vocab.kek3.txt\")"
   ]
  },
  {
   "cell_type": "code",
   "execution_count": null,
   "metadata": {},
   "outputs": [],
   "source": [
    "# Получение распределения тем для конкретного документа\n",
    "doc = list(data2)[0]\n",
    "kl_ = ldamodel.get_document_topics(doc)\n",
    "print(kl_)\n",
    "kl_ = to_vec(kl_)\n",
    "kl_"
   ]
  },
  {
   "cell_type": "code",
   "execution_count": 378,
   "metadata": {},
   "outputs": [
    {
     "name": "stdout",
     "output_type": "stream",
     "text": [
      "2 [(1, 0.98620445)]\n",
      "3 [(0, 0.14087127), (1, 0.031190626), (2, 0.034708347), (3, 0.020744458), (4, 0.7724853)]\n",
      "4 [(0, 0.086568385), (1, 0.041553225), (2, 0.7901978), (3, 0.035377093), (4, 0.046303492)]\n",
      "5 [(0, 0.56662786), (1, 0.03861747), (2, 0.3341466), (3, 0.027783664), (4, 0.032824434)]\n",
      "6 [(0, 0.043654118), (1, 0.91410834), (2, 0.020216929), (4, 0.015667593)]\n",
      "7 [(2, 0.9840497)]\n",
      "8 [(0, 0.99054784)]\n",
      "9 [(0, 0.9826675)]\n",
      "10 [(0, 0.16159981), (1, 0.012995518), (2, 0.4982982), (4, 0.3173621)]\n",
      "11 [(0, 0.035356943), (1, 0.017809497), (2, 0.020076368), (3, 0.016860072), (4, 0.90989715)]\n",
      "12 [(0, 0.41668534), (2, 0.56382704)]\n",
      "13 [(2, 0.9952539)]\n",
      "14 [(0, 0.0127186775), (2, 0.97458464)]\n",
      "15 [(0, 0.9988435)]\n",
      "16 [(0, 0.9824118)]\n",
      "17 [(2, 0.99464136)]\n",
      "18 [(0, 0.9441777), (1, 0.014646235), (2, 0.019585935), (4, 0.012483825)]\n",
      "19 [(4, 0.992704)]\n",
      "20 [(4, 0.98760265)]\n",
      "21 [(0, 0.010017615), (2, 0.9652571)]\n"
     ]
    }
   ],
   "source": [
    "for i in range(20):\n",
    "    doc = list(data)[i]\n",
    "    kl\n",
    "    k = ldamodel.get_document_topics(doc)\n",
    "    print(i+ 2,k)"
   ]
  },
  {
   "cell_type": "code",
   "execution_count": 385,
   "metadata": {
    "scrolled": false
   },
   "outputs": [
    {
     "name": "stdout",
     "output_type": "stream",
     "text": [
      "2 0.44022673278607355\n",
      "3 0.5574887942026674\n",
      "4 0.5348550275650954\n",
      "5 0.6980877365162738\n",
      "6 0.47949908128961277\n",
      "7 0.4178722405535795\n",
      "8 0.48993210394077324\n",
      "9 0.48993210394077324\n",
      "10 0.7011141526042133\n",
      "11 0.47444327098765904\n",
      "12 0.6272450550457097\n",
      "13 0.4178722405535795\n",
      "14 0.4242279030126884\n",
      "15 0.4899321039407733\n",
      "16 0.4899321039407733\n",
      "17 0.4178722405535795\n",
      "18 0.5108941728580404\n",
      "19 0.4297862328041485\n",
      "20 0.4297862328041485\n",
      "21 0.4229357765321494\n",
      "-------\n",
      " 10 0.7011141526042133\n"
     ]
    }
   ],
   "source": [
    "\n",
    "x = []\n",
    "for i in range(20):\n",
    "    doc = list(data)[i]\n",
    "    kl\n",
    "    k = to_vec(ldamodel.get_document_topics(doc))\n",
    "    x.append(cos(kl_,k))\n",
    "    print(i + 2,cos(kl_,k))\n",
    "\n",
    "print('-------\\n',argmax(x) +2 ,max(x))"
   ]
  }
 ],
 "metadata": {
  "kernelspec": {
   "display_name": "Python 3",
   "language": "python",
   "name": "python3"
  },
  "language_info": {
   "codemirror_mode": {
    "name": "ipython",
    "version": 3
   },
   "file_extension": ".py",
   "mimetype": "text/x-python",
   "name": "python",
   "nbconvert_exporter": "python",
   "pygments_lexer": "ipython3",
   "version": "3.6.4"
  }
 },
 "nbformat": 4,
 "nbformat_minor": 1
}
